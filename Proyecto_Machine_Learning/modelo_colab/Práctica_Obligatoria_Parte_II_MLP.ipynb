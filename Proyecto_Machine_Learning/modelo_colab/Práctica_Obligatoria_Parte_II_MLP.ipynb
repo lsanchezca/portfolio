{
  "cells": [
    {
      "cell_type": "markdown",
      "id": "7dfb139e-5228-476c-9af1-125265c23aa7",
      "metadata": {
        "id": "7dfb139e-5228-476c-9af1-125265c23aa7"
      },
      "source": [
        "#  Práctica Obligatoria - Parte II - MLP\n",
        "\n",
        "***<p style=\"text-align:center;\">Aprendizaje Automático II</p>***\n",
        "***<p style=\"text-align:center;\">MLPs</p>***\n",
        "\n",
        "En esta parte, entrenarás varias redes MLPs y analizarás sus resultados en el dataset GTS.\n",
        "\n",
        "\n",
        "### Evaluación - 3/10 puntos\n",
        "\n",
        "Puntuación de cada parte sobre el total de la práctica:\n",
        "- **[Ejercicio 1]** 0.25 puntos.\n",
        "- **[Ejercicio 2]** 0.25 puntos.\n",
        "- **[Ejercicio 3]** 0.5 puntos.\n",
        "- **[Ejercicio 4]** 1 punto.\n",
        "- **[Ejercicio 5]** 0.5 puntos.\n",
        "- **[Ejercicio 6]** 0.5 puntos."
      ]
    },
    {
      "cell_type": "code",
      "execution_count": 28,
      "id": "d6510db3-35a5-498a-906b-2436daf8c0fb",
      "metadata": {
        "id": "d6510db3-35a5-498a-906b-2436daf8c0fb"
      },
      "outputs": [],
      "source": [
        "import pandas as pd\n",
        "import numpy as np\n",
        "import matplotlib.pyplot as plt\n",
        "\n",
        "import torch\n",
        "import torch.nn as nn\n",
        "import torch.nn.functional as F\n",
        "\n",
        "from torch.utils.data import DataLoader\n",
        "from torchvision import transforms\n",
        "\n",
        "from gts_dataset import GTS\n"
      ]
    },
    {
      "cell_type": "code",
      "source": [
        "!unzip /content/data.zip -d /content/\n"
      ],
      "metadata": {
        "id": "EDE1PdckOpyw"
      },
      "id": "EDE1PdckOpyw",
      "execution_count": 29,
      "outputs": []
    },
    {
      "cell_type": "markdown",
      "id": "fa8b193c-908b-4133-b4cc-682b9066d684",
      "metadata": {
        "id": "fa8b193c-908b-4133-b4cc-682b9066d684"
      },
      "source": [
        "## Carga German Traffic Signs (GTS) dataset\n",
        "\n",
        "Carga GTS en sus tres partes, como en el notebook anterior."
      ]
    },
    {
      "cell_type": "code",
      "execution_count": 30,
      "id": "66a33566-0648-449c-9c57-39c2c62d34a7",
      "metadata": {
        "id": "66a33566-0648-449c-9c57-39c2c62d34a7"
      },
      "outputs": [],
      "source": [
        "# Definir las transformaciones y conversión a tensor\n",
        "transform = transforms.Compose([\n",
        "    transforms.ToTensor(),\n",
        "])\n",
        "\n",
        "train_dataset = GTS(csv_file='train.csv', root_dir='./data', transform=transform)\n",
        "valid_dataset = GTS(csv_file='valid.csv', root_dir='./data', transform=transform)\n",
        "test_dataset = GTS(csv_file='test.csv', root_dir='./data', transform=transform)"
      ]
    },
    {
      "cell_type": "markdown",
      "id": "eb12c55d-6c52-419b-b883-d80785e5f391",
      "metadata": {
        "id": "eb12c55d-6c52-419b-b883-d80785e5f391"
      },
      "source": [
        "### **[Ejercicio 1]** Crear una `MLP` con una única capa oculta"
      ]
    },
    {
      "cell_type": "code",
      "execution_count": 31,
      "id": "9110840e-73b0-4499-88da-d7595401d6f0",
      "metadata": {
        "id": "9110840e-73b0-4499-88da-d7595401d6f0",
        "colab": {
          "base_uri": "https://localhost:8080/"
        },
        "outputId": "e1226738-fcb3-4d0e-fce5-9bea66246ddc"
      },
      "outputs": [
        {
          "output_type": "stream",
          "name": "stdout",
          "text": [
            "Tamaño de la salida: torch.Size([16, 43])\n"
          ]
        }
      ],
      "source": [
        "import torch\n",
        "import torch.nn as nn\n",
        "\n",
        "# Red neuronal MLP\n",
        "class MLP(nn.Module):\n",
        "    def __init__(self, input_size, hidden_size, output_size):\n",
        "        super(MLP, self).__init__()\n",
        "        self.hidden_layer1 = nn.Linear(input_size, hidden_size)\n",
        "        self.hidden_layer2 = nn.Linear(hidden_size, hidden_size)\n",
        "        self.output_layer = nn.Linear(hidden_size, output_size)\n",
        "        self.activation = nn.ReLU()\n",
        "\n",
        "    def forward(self, x):\n",
        "        x = x.view(x.size(0), -1)  # Aplanar la entrada\n",
        "        x = self.hidden_layer1(x)\n",
        "        x = self.activation(x)\n",
        "        x = self.hidden_layer2(x)\n",
        "        x = self.activation(x)\n",
        "        x = self.output_layer(x)\n",
        "        return x\n",
        "\n",
        "\n",
        "# Ejemplo de uso\n",
        "input_size = 3 * 25 * 25  # Tamaño de la entrada para imágenes 25x25 con 3 canales\n",
        "hidden_size = 512  # Número de neuronas en la capa oculta (puedes ajustarlo)\n",
        "output_size = 43  # Número de clases para la salida (ajústalo si es diferente)\n",
        "\n",
        "# Crear una instancia de la red\n",
        "mlp = MLP(input_size, hidden_size, output_size)\n",
        "\n",
        "# Crear un tensor de ejemplo con un batch de tamaño 16 y 25x25 píxeles de entrada\n",
        "example_input = torch.randn(16, 3, 25, 25)  # Tamaño (batch_size, 3, 25, 25)\n",
        "\n",
        "# Realizar una pasada hacia adelante\n",
        "output = mlp(example_input)\n",
        "\n",
        "print(\"Tamaño de la salida:\", output.shape)  # Debería ser [16, 43] (16 imágenes, 43 clases)\n"
      ]
    },
    {
      "cell_type": "markdown",
      "id": "64200abf-68c5-4512-bcec-8b909ebf474c",
      "metadata": {
        "id": "64200abf-68c5-4512-bcec-8b909ebf474c"
      },
      "source": [
        "### **[Ejercicio 2]** Crea una función que cuente el número de parámetros entrenables de un modelo"
      ]
    },
    {
      "cell_type": "code",
      "execution_count": 32,
      "id": "40b5ab2d-0382-47e5-b8cc-7997bcbb8a5f",
      "metadata": {
        "id": "40b5ab2d-0382-47e5-b8cc-7997bcbb8a5f",
        "colab": {
          "base_uri": "https://localhost:8080/"
        },
        "outputId": "0cced4fb-357d-4315-b13f-1c29aa6f0d08"
      },
      "outputs": [
        {
          "output_type": "stream",
          "name": "stdout",
          "text": [
            "Número de parámetros entrenables: 8110\n",
            "Función 'count_trainable_params' guardada exitosamente.\n"
          ]
        }
      ],
      "source": [
        "import torch.nn as nn\n",
        "\n",
        "def count_trainable_params(model: nn.Module) -> int:\n",
        "    \"\"\"\n",
        "    Cuenta el número de parámetros entrenables en un modelo PyTorch.\n",
        "\n",
        "    Args:\n",
        "        model (nn.Module): El modelo de PyTorch.\n",
        "\n",
        "    Returns:\n",
        "        int: El número total de parámetros entrenables.\n",
        "    \"\"\"\n",
        "    return sum(p.numel() for p in model.parameters() if p.requires_grad)\n",
        "############## Fin COMPLETAR ###############\n",
        "\n",
        "# Ejemplo de uso\n",
        "# Crear un modelo de ejemplo\n",
        "input_size = 100\n",
        "hidden_size = 50\n",
        "output_size = 10\n",
        "mlp = MLP(input_size, hidden_size, output_size)\n",
        "\n",
        "# Contar los parámetros entrenables\n",
        "num_params = count_trainable_params(mlp)\n",
        "print(f\"Número de parámetros entrenables: {num_params}\")\n",
        "\n",
        "\n",
        "\n",
        "print(\"Función 'count_trainable_params' guardada exitosamente.\")\n",
        "\n"
      ]
    },
    {
      "cell_type": "markdown",
      "id": "93979bfa-db56-4fac-b10e-af05ebff710e",
      "metadata": {
        "id": "93979bfa-db56-4fac-b10e-af05ebff710e"
      },
      "source": [
        "Instancia el modelo `MLP` que has creado antes y configúralo para que no tenga más de **200.000** parámetros:"
      ]
    },
    {
      "cell_type": "code",
      "execution_count": 33,
      "id": "7e21bb36-268b-4d0f-96d5-ffe64c0461ba",
      "metadata": {
        "id": "7e21bb36-268b-4d0f-96d5-ffe64c0461ba",
        "colab": {
          "base_uri": "https://localhost:8080/"
        },
        "outputId": "b375d476-4160-4d5c-e627-38d2dacc53a1"
      },
      "outputs": [
        {
          "output_type": "stream",
          "name": "stdout",
          "text": [
            "Dimensión de la capa oculta configurada: 192\n",
            "Número de parámetros entrenables: 189706\n"
          ]
        }
      ],
      "source": [
        "################ COMPLETAR #################\n",
        "# Dimensiones de entrada, salida y capa oculta\n",
        "input_size = 784  # Por ejemplo, para imágenes de 28x28 (MNIST)\n",
        "hidden_size = 512  # Número de neuronas en la capa oculta\n",
        "output_size = 10   # Número de clases, por ejemplo, 10 para MNIST\n",
        "\n",
        "# Asegurarse de no exceder 200,000 parámetros\n",
        "while True:\n",
        "    # Crear el modelo\n",
        "    model = MLP(input_size, hidden_size, output_size)\n",
        "    trainable_params = count_trainable_params(model)\n",
        "\n",
        "    # Comprobar si el número de parámetros cumple con el límite\n",
        "    if trainable_params <= 200_000:\n",
        "        break\n",
        "    else:\n",
        "        # Reducir el tamaño de la capa oculta si es necesario\n",
        "        hidden_size -= 10\n",
        "\n",
        "############## Fin COMPLETAR ###############\n",
        "\n",
        "print(f\"Dimensión de la capa oculta configurada: {hidden_size}\")\n",
        "print(f\"Número de parámetros entrenables: {trainable_params}\")\n"
      ]
    },
    {
      "cell_type": "markdown",
      "id": "fa4184f9-ea4c-4c2b-8e50-75eee414fbbf",
      "metadata": {
        "id": "fa4184f9-ea4c-4c2b-8e50-75eee414fbbf"
      },
      "source": [
        "### **[Ejercicio 3]** Crea las funciones de apoyo para el entrenamiento\n",
        "\n",
        "Durante el entrenamiento, debes guardas las pérdidas de entrenamiento y validación para, posteriormente, graficarlas.\n",
        "\n",
        "Para ello, guárdalas en un archivo `train_loss_mlp.csv` y otro `valid_loss_mlp.csv`.\n",
        "\n",
        "Haz lo mismo para los *accuracies* `train_accuracy_mlp.csv` y `valid_accuracy_mlp.csv`."
      ]
    },
    {
      "cell_type": "code",
      "execution_count": 34,
      "id": "2135a477-57b8-48eb-bddf-2efb4a0905ee",
      "metadata": {
        "id": "2135a477-57b8-48eb-bddf-2efb4a0905ee"
      },
      "outputs": [],
      "source": [
        "import torch\n",
        "import torch.nn as nn\n",
        "import torch.optim as optim\n",
        "import pandas as pd\n",
        "\n",
        "# Función de entrenamiento\n",
        "def train(model, train_loader, loss_fn, optimizer, device):\n",
        "    model.train()\n",
        "    running_loss = 0.0\n",
        "    correct = 0\n",
        "    total = 0\n",
        "    for images, labels in train_loader:\n",
        "        images, labels = images.to(device), labels.to(device)\n",
        "\n",
        "        # Forward pass\n",
        "        outputs = model(images)\n",
        "        loss = loss_fn(outputs, labels)\n",
        "\n",
        "        # Backward pass y optimización\n",
        "        optimizer.zero_grad()\n",
        "        loss.backward()\n",
        "        optimizer.step()\n",
        "\n",
        "        running_loss += loss.item()\n",
        "\n",
        "        # Calcular la precisión\n",
        "        _, predicted = torch.max(outputs, 1)\n",
        "        total += labels.size(0)\n",
        "        correct += (predicted == labels).sum().item()\n",
        "\n",
        "    avg_loss = running_loss / len(train_loader)\n",
        "    accuracy = correct / total\n",
        "    return avg_loss, accuracy\n",
        "\n",
        "    with open(\"utils.py\", \"a\") as file:\n",
        "     file.write(train + \"\\n\\n\")\n",
        "\n",
        "\n",
        "# Función de evaluación\n",
        "def evaluate(model, val_loader, loss_fn, device):\n",
        "    model.eval()\n",
        "    running_loss = 0.0\n",
        "    correct = 0\n",
        "    total = 0\n",
        "    with torch.no_grad():\n",
        "        for images, labels in val_loader:\n",
        "            images, labels = images.to(device), labels.to(device)\n",
        "\n",
        "            # Forward pass\n",
        "            outputs = model(images)\n",
        "            loss = loss_fn(outputs, labels)\n",
        "\n",
        "            running_loss += loss.item()\n",
        "\n",
        "            # Calcular la precisión\n",
        "            _, predicted = torch.max(outputs, 1)\n",
        "            total += labels.size(0)\n",
        "            correct += (predicted == labels).sum().item()\n",
        "\n",
        "    avg_loss = running_loss / len(val_loader)\n",
        "    accuracy = correct / total\n",
        "    return avg_loss, accuracy\n",
        "\n",
        "\n",
        "# Función para entrenar y evaluar, guardando las pérdidas y precisiones en archivos CSV\n",
        "def train_and_evaluate(model, train_loader, val_loader, test_loader, optimizer, device, num_epochs=10, name='None'):\n",
        "    # Definir la función de pérdida\n",
        "    loss_fn = nn.CrossEntropyLoss()\n",
        "\n",
        "    # Listas para almacenar las pérdidas y precisiones\n",
        "    train_losses = []\n",
        "    val_losses = []\n",
        "    train_accuracies = []  # Lista para almacenar las precisiones de entrenamiento\n",
        "    val_accuracies = []  # Lista para almacenar las precisiones de validación\n",
        "\n",
        "    # Ciclo de entrenamiento\n",
        "    for epoch in range(num_epochs):\n",
        "        # Entrenamiento\n",
        "        train_loss, train_accuracy = train(model, train_loader, loss_fn, optimizer, device)\n",
        "        train_losses.append(train_loss)\n",
        "        train_accuracies.append(train_accuracy)\n",
        "\n",
        "        # Evaluación en el conjunto de validación\n",
        "        val_loss, val_accuracy = evaluate(model, val_loader, loss_fn, device)\n",
        "        val_losses.append(val_loss)\n",
        "        val_accuracies.append(val_accuracy)\n",
        "\n",
        "        # Imprimir pérdidas y precisión\n",
        "        print(f\"Epoch [{epoch+1}/{num_epochs}], Train Loss: {train_loss:.4f}, Train Accuracy: {train_accuracy:.4f}, Validation Loss: {val_loss:.4f}, Validation Accuracy: {val_accuracy:.4f}\")\n",
        "\n",
        "    # Guardar pérdidas y precisión en archivos CSV\n",
        "    train_loss_df = pd.DataFrame({'Epoch': range(1, num_epochs+1), 'Train Loss': train_losses, 'Train Accuracy': train_accuracies})\n",
        "    val_loss_df = pd.DataFrame({'Epoch': range(1, num_epochs+1), 'Validation Loss': val_losses, 'Validation Accuracy': val_accuracies})\n",
        "\n",
        "    train_loss_df.to_csv(f'train_loss_{name}.csv', index=False)\n",
        "    val_loss_df.to_csv(f'valid_loss_{name}.csv', index=False)\n",
        "\n",
        "    # Evaluación en el conjunto de test (si se proporciona)\n",
        "    if test_loader is not None:\n",
        "        test_loss, test_accuracy = evaluate(model, test_loader, loss_fn, device)\n",
        "        print(f\"Test Loss: {test_loss:.4f}, Test Accuracy: {test_accuracy:.4f}\")\n",
        "\n",
        "        # Guardar la precisión de test en un archivo CSV\n",
        "        test_accuracy_df = pd.DataFrame({'Test Accuracy': [test_accuracy]})\n",
        "        test_accuracy_df.to_csv(f'test_accuracy_{name}.csv', index=False)\n",
        "\n",
        "    # Guardar las precisiones de entrenamiento y validación en archivos CSV\n",
        "    train_accuracy_df = pd.DataFrame({'Epoch': range(1, num_epochs+1), 'Train Accuracy': train_accuracies})\n",
        "    val_accuracy_df = pd.DataFrame({'Epoch': range(1, num_epochs+1), 'Validation Accuracy': val_accuracies})\n",
        "\n",
        "    train_accuracy_df.to_csv(f'train_accuracy_{name}.csv', index=False)\n",
        "    val_accuracy_df.to_csv(f'valid_accuracy_{name}.csv', index=False)\n",
        "\n",
        "\n",
        "    return train_losses, val_losses, train_accuracies, val_accuracies, test_loss, test_accuracy"
      ]
    },
    {
      "cell_type": "code",
      "source": [
        "!ls /content/\n"
      ],
      "metadata": {
        "id": "DpJ1tZNkfHwE",
        "colab": {
          "base_uri": "https://localhost:8080/"
        },
        "outputId": "089ac6cd-74f5-4d45-82de-f1ba1942c902"
      },
      "id": "DpJ1tZNkfHwE",
      "execution_count": 35,
      "outputs": [
        {
          "output_type": "stream",
          "name": "stdout",
          "text": [
            "data\t\t__pycache__\t\t\t  utils.py\n",
            "data.zip\tsample_data\t\t\t  valid_accuracy_model_results.csv\n",
            "gts_dataset.py\ttest_accuracy_model_results.csv   valid_loss_model_results.csv\n",
            "mlp.pth\t\ttrain_accuracy_model_results.csv\n",
            "models.py\ttrain_loss_model_results.csv\n"
          ]
        }
      ]
    },
    {
      "cell_type": "markdown",
      "id": "c4649398-47ce-4679-ad44-f99caf9f83e2",
      "metadata": {
        "id": "c4649398-47ce-4679-ad44-f99caf9f83e2"
      },
      "source": [
        "### **[Ejercicio 4]** Entrena el modelo solo 10 épocas.\n",
        "\n",
        "Puedes hacer uso de la `gpu`, aunque no es necesario. De manera orientativa, 10 épocas en `cpu` deberían tardar menos de 90 segundos.\n",
        "\n",
        "Para ellos, crea los dataloaders e instancia el modelo sin sobrepasar los 200.000 parámetros.\n",
        "\n",
        "Usa una función de pérdida apropiada y el optimizador que consideres.\n"
      ]
    },
    {
      "cell_type": "code",
      "execution_count": 36,
      "id": "bef52093-0c10-416f-a953-ebe538ebe182",
      "metadata": {
        "colab": {
          "base_uri": "https://localhost:8080/"
        },
        "id": "bef52093-0c10-416f-a953-ebe538ebe182",
        "outputId": "2c8dc4be-c580-4e86-d4d5-355a3d259d69"
      },
      "outputs": [
        {
          "output_type": "stream",
          "name": "stderr",
          "text": [
            "/usr/local/lib/python3.11/dist-packages/torch/utils/data/dataloader.py:617: UserWarning: This DataLoader will create 4 worker processes in total. Our suggested max number of worker in current system is 2, which is smaller than what this DataLoader is going to create. Please be aware that excessive worker creation might get DataLoader running slow or even freeze, lower the worker number to avoid potential slowness/freeze if necessary.\n",
            "  warnings.warn(\n"
          ]
        },
        {
          "output_type": "stream",
          "name": "stdout",
          "text": [
            "Dimensión final de la capa oculta: 92\n",
            "Parámetros entrenables: 185147\n",
            "Epoch [1/10], Train Loss: 2.1890, Train Accuracy: 0.3908, Validation Loss: 1.4033, Validation Accuracy: 0.5640\n",
            "Epoch [2/10], Train Loss: 1.1150, Train Accuracy: 0.6658, Validation Loss: 1.0846, Validation Accuracy: 0.6708\n",
            "Epoch [3/10], Train Loss: 0.8069, Train Accuracy: 0.7640, Validation Loss: 0.6851, Validation Accuracy: 0.8123\n",
            "Epoch [4/10], Train Loss: 0.6714, Train Accuracy: 0.8064, Validation Loss: 0.7003, Validation Accuracy: 0.7978\n",
            "Epoch [5/10], Train Loss: 0.5751, Train Accuracy: 0.8346, Validation Loss: 0.8102, Validation Accuracy: 0.7684\n",
            "Epoch [6/10], Train Loss: 0.5168, Train Accuracy: 0.8509, Validation Loss: 0.7089, Validation Accuracy: 0.7966\n",
            "Epoch [7/10], Train Loss: 0.4479, Train Accuracy: 0.8725, Validation Loss: 0.4665, Validation Accuracy: 0.8715\n",
            "Epoch [8/10], Train Loss: 0.4215, Train Accuracy: 0.8772, Validation Loss: 0.4596, Validation Accuracy: 0.8706\n",
            "Epoch [9/10], Train Loss: 0.3805, Train Accuracy: 0.8877, Validation Loss: 0.4821, Validation Accuracy: 0.8621\n",
            "Epoch [10/10], Train Loss: 0.3547, Train Accuracy: 0.8975, Validation Loss: 0.4229, Validation Accuracy: 0.8855\n",
            "Test Loss: 1.1225, Test Accuracy: 0.7734\n"
          ]
        }
      ],
      "source": [
        "import torch\n",
        "import torch.nn as nn\n",
        "import torch.optim as optim\n",
        "from torch.utils.data import DataLoader\n",
        "\n",
        "# Configuración del dispositivo\n",
        "device = 'cpu'\n",
        "\n",
        "# Datasets y DataLoaders\n",
        "batch_size = 16\n",
        "train_loader = DataLoader(train_dataset, batch_size=batch_size, shuffle=True, num_workers=4)\n",
        "valid_loader = DataLoader(valid_dataset, batch_size=batch_size, shuffle=False, num_workers=4)\n",
        "test_loader = DataLoader(test_dataset, batch_size=batch_size, shuffle=False, num_workers=4)\n",
        "\n",
        "# Modelo MLP con restricciones de parámetros\n",
        "input_size = 3 * 25 * 25  # Para imágenes 28x28\n",
        "hidden_size = 512  # Inicia con un tamaño razonable\n",
        "output_size = 43  # Número de clases (MNIST)\n",
        "\n",
        "# Ajustar el modelo para cumplir con el límite de parámetros\n",
        "while True:\n",
        "    model = MLP(input_size, hidden_size, output_size).to(device)\n",
        "    trainable_params = count_trainable_params(model)\n",
        "    if trainable_params <= 200_000:\n",
        "        break\n",
        "    hidden_size -= 10\n",
        "\n",
        "print(f\"Dimensión final de la capa oculta: {hidden_size}\")\n",
        "print(f\"Parámetros entrenables: {trainable_params}\")\n",
        "\n",
        "# Definir la función de pérdida y el optimizador\n",
        "loss_fn = nn.CrossEntropyLoss()\n",
        "optimizer = optim.Adam(model.parameters(), lr=0.001)\n",
        "\n",
        "\n",
        "train_losses, val_losses, train_accuracies, val_accuracies, test_loss, test_accuracy = train_and_evaluate(\n",
        "    model, train_loader, valid_loader, test_loader, optimizer, device, num_epochs=10, name='mlp'\n",
        ")"
      ]
    },
    {
      "cell_type": "markdown",
      "id": "d3ad9ff9-ff02-426d-a8e6-8a0b3232f845",
      "metadata": {
        "id": "d3ad9ff9-ff02-426d-a8e6-8a0b3232f845"
      },
      "source": [
        "Guarda el modelo pytorch con ayuda de las siguientes funciones, lo necesitarás más adelante.\n",
        "\n",
        "Guárdalo con el nombre `mlp.pth`."
      ]
    },
    {
      "cell_type": "code",
      "execution_count": 21,
      "id": "5dcaaf84-f323-4542-9ea1-6cdc402fd4ea",
      "metadata": {
        "id": "5dcaaf84-f323-4542-9ea1-6cdc402fd4ea",
        "colab": {
          "base_uri": "https://localhost:8080/"
        },
        "outputId": "e613bbe0-6bf4-4a90-8118-12d5cb0b6444"
      },
      "outputs": [
        {
          "output_type": "stream",
          "name": "stdout",
          "text": [
            "Modelo completo guardado como mlp.pth\n",
            "Modelo cargado desde mlp.pth\n"
          ]
        },
        {
          "output_type": "stream",
          "name": "stderr",
          "text": [
            "<ipython-input-21-af3dbfd90632>:31: FutureWarning: You are using `torch.load` with `weights_only=False` (the current default value), which uses the default pickle module implicitly. It is possible to construct malicious pickle data which will execute arbitrary code during unpickling (See https://github.com/pytorch/pytorch/blob/main/SECURITY.md#untrusted-models for more details). In a future release, the default value for `weights_only` will be flipped to `True`. This limits the functions that could be executed during unpickling. Arbitrary objects will no longer be allowed to be loaded via this mode unless they are explicitly allowlisted by the user via `torch.serialization.add_safe_globals`. We recommend you start setting `weights_only=True` for any use case where you don't have full control of the loaded file. Please open an issue on GitHub for any issues related to this experimental feature.\n",
            "  model = torch.load(file_name)\n"
          ]
        }
      ],
      "source": [
        "def save_full_model(model, file_name):\n",
        "    \"\"\"\n",
        "    Guarda el modelo completo, incluyendo la arquitectura y los pesos.\n",
        "\n",
        "    Args:\n",
        "        model: El modelo de PyTorch a guardar.\n",
        "        file_name: El nombre del archivo donde se guardará el modelo.\n",
        "    \"\"\"\n",
        "    torch.save(model, file_name)\n",
        "    print(f\"Modelo completo guardado como {file_name}\")\n",
        "\n",
        "# Guardar el modelo\n",
        "input_size = 3 * 25 * 25  # Tamaño de la entrada\n",
        "hidden_size = 512         # Número de neuronas en la capa oculta\n",
        "output_size = 43          # Número de clases\n",
        "\n",
        "mlp = MLP(input_size, hidden_size, output_size)\n",
        "save_full_model(mlp, 'mlp.pth')\n",
        "\n",
        "\n",
        "def load_full_model(file_name):\n",
        "    \"\"\"\n",
        "    Carga el modelo completo desde un archivo guardado.\n",
        "\n",
        "    Args:\n",
        "        file_name: El nombre del archivo del modelo guardado.\n",
        "\n",
        "    Returns:\n",
        "        model: El modelo cargado.\n",
        "    \"\"\"\n",
        "    model = torch.load(file_name)\n",
        "    print(f\"Modelo cargado desde {file_name}\")\n",
        "    return model\n",
        "\n",
        "# Cargar el modelo\n",
        "loaded_model = load_full_model('mlp.pth')\n",
        "\n",
        "\n",
        "################ COMPLETAR #################\n",
        "\n",
        "\n",
        "############## Fin COMPLETAR ###############"
      ]
    },
    {
      "cell_type": "markdown",
      "id": "34cd73fd-897f-4168-87e1-1329eb825d7b",
      "metadata": {
        "id": "34cd73fd-897f-4168-87e1-1329eb825d7b"
      },
      "source": [
        "### **[Ejercicio 5]** Carga los datos de 'loss' y 'accuracy' que has generado y pinta las gráficas"
      ]
    },
    {
      "cell_type": "code",
      "source": [
        "import os\n",
        "\n",
        "# Listar los archivos en el directorio actual\n",
        "print(os.listdir())\n",
        "\n"
      ],
      "metadata": {
        "id": "Pv5FtANBq28S",
        "colab": {
          "base_uri": "https://localhost:8080/"
        },
        "outputId": "81430369-9d96-41b7-fe87-c23b0c196f28"
      },
      "id": "Pv5FtANBq28S",
      "execution_count": 22,
      "outputs": [
        {
          "output_type": "stream",
          "name": "stdout",
          "text": [
            "['.config', 'data', '__pycache__', 'valid_loss_model_results.csv', 'gts_dataset.py', 'mlp.pth', 'models.py', 'utils.py', 'train_accuracy_model_results.csv', 'train_loss_model_results.csv', 'data.zip', 'valid_accuracy_model_results.csv', 'test_accuracy_model_results.csv', 'sample_data']\n"
          ]
        }
      ]
    },
    {
      "cell_type": "code",
      "execution_count": 23,
      "id": "fd275534-1f8f-4bbb-a278-bc27ee4f4a34",
      "metadata": {
        "id": "fd275534-1f8f-4bbb-a278-bc27ee4f4a34",
        "colab": {
          "base_uri": "https://localhost:8080/",
          "height": 607
        },
        "outputId": "22f838a8-ca02-41f9-a799-447c4b4c8363"
      },
      "outputs": [
        {
          "output_type": "display_data",
          "data": {
            "text/plain": [
              "<Figure size 1400x600 with 2 Axes>"
            ],
            "image/png": "[encoded data removed]"
          },
          "metadata": {}
        }
      ],
      "source": [
        "import pandas as pd\n",
        "import matplotlib.pyplot as plt\n",
        "\n",
        "# Función para pintar las gráficas\n",
        "def plot_loss_accuracy(train_loss_file, valid_loss_file, train_accuracy_file, valid_accuracy_file):\n",
        "    # Leer los archivos CSV con los datos\n",
        "    train_loss_df = pd.read_csv(train_loss_file)\n",
        "    valid_loss_df = pd.read_csv(valid_loss_file)\n",
        "    train_accuracy_df = pd.read_csv(train_accuracy_file)\n",
        "    valid_accuracy_df = pd.read_csv(valid_accuracy_file)\n",
        "\n",
        "    # Configuración de la figura\n",
        "    fig, (ax1, ax2) = plt.subplots(1, 2, figsize=(14, 6))\n",
        "\n",
        "    # Gráfico de las pérdidas\n",
        "    ax1.plot(train_loss_df['Epoch'], train_loss_df['Train Loss'], label='Train Loss', color='blue', linestyle='-', marker='o')\n",
        "    ax1.plot(valid_loss_df['Epoch'], valid_loss_df['Validation Loss'], label='Validation Loss', color='red', linestyle='-', marker='x')\n",
        "    ax1.set_title('Train & Validation Loss', fontsize=14)\n",
        "    ax1.set_xlabel('Epoch', fontsize=12)\n",
        "    ax1.set_ylabel('Loss', fontsize=12)\n",
        "    ax1.legend()\n",
        "    ax1.grid(True)\n",
        "\n",
        "    # Gráfico de las precisiones\n",
        "    ax2.plot(train_accuracy_df['Epoch'], train_accuracy_df['Train Accuracy'], label='Train Accuracy', color='blue', linestyle='-', marker='o')\n",
        "    ax2.plot(valid_accuracy_df['Epoch'], valid_accuracy_df['Validation Accuracy'], label='Validation Accuracy', color='red', linestyle='-', marker='x')\n",
        "    ax2.set_title('Train & Validation Accuracy', fontsize=14)\n",
        "    ax2.set_xlabel('Epoch', fontsize=12)\n",
        "    ax2.set_ylabel('Accuracy', fontsize=12)\n",
        "    ax2.legend()\n",
        "    ax2.grid(True)\n",
        "\n",
        "    # Mostrar las gráficas\n",
        "    plt.tight_layout()\n",
        "    plt.show()\n",
        "\n",
        "# Ruta a los archivos CSV generados\n",
        "train_loss_file = 'train_loss_model_results.csv'\n",
        "valid_loss_file = 'valid_loss_model_results.csv'\n",
        "train_accuracy_file = 'train_accuracy_model_results.csv'\n",
        "valid_accuracy_file = 'valid_accuracy_model_results.csv'\n",
        "\n",
        "# Llamada a la función para graficar\n",
        "plot_loss_accuracy(train_loss_file, valid_loss_file, train_accuracy_file, valid_accuracy_file)\n"
      ]
    },
    {
      "cell_type": "markdown",
      "id": "7ddf1514-229f-4946-8531-f3c440695727",
      "metadata": {
        "id": "7ddf1514-229f-4946-8531-f3c440695727"
      },
      "source": [
        "### **[Ejercicio 6]** Calcula la matriz de confusión y el porcentaje de error por clase"
      ]
    },
    {
      "cell_type": "code",
      "execution_count": 24,
      "id": "a1969073-04bd-4315-8a88-ace7914f3338",
      "metadata": {
        "id": "a1969073-04bd-4315-8a88-ace7914f3338",
        "colab": {
          "base_uri": "https://localhost:8080/",
          "height": 752
        },
        "outputId": "5b2e2fff-f553-4ee5-c236-110a8dd026de"
      },
      "outputs": [
        {
          "output_type": "stream",
          "name": "stdout",
          "text": [
            "Modelo cargado desde mlp.pth\n"
          ]
        },
        {
          "output_type": "stream",
          "name": "stderr",
          "text": [
            "<ipython-input-21-af3dbfd90632>:31: FutureWarning: You are using `torch.load` with `weights_only=False` (the current default value), which uses the default pickle module implicitly. It is possible to construct malicious pickle data which will execute arbitrary code during unpickling (See https://github.com/pytorch/pytorch/blob/main/SECURITY.md#untrusted-models for more details). In a future release, the default value for `weights_only` will be flipped to `True`. This limits the functions that could be executed during unpickling. Arbitrary objects will no longer be allowed to be loaded via this mode unless they are explicitly allowlisted by the user via `torch.serialization.add_safe_globals`. We recommend you start setting `weights_only=True` for any use case where you don't have full control of the loaded file. Please open an issue on GitHub for any issues related to this experimental feature.\n",
            "  model = torch.load(file_name)\n",
            "/usr/local/lib/python3.11/dist-packages/torch/utils/data/dataloader.py:617: UserWarning: This DataLoader will create 4 worker processes in total. Our suggested max number of worker in current system is 2, which is smaller than what this DataLoader is going to create. Please be aware that excessive worker creation might get DataLoader running slow or even freeze, lower the worker number to avoid potential slowness/freeze if necessary.\n",
            "  warnings.warn(\n"
          ]
        },
        {
          "output_type": "display_data",
          "data": {
            "text/plain": [
              "<Figure size 1000x700 with 2 Axes>"
            ],
            "image/png": "[encoded data removed]"
          },
          "metadata": {}
        }
      ],
      "source": [
        "from sklearn.metrics import confusion_matrix\n",
        "import seaborn as sns\n",
        "import torch\n",
        "import numpy as np\n",
        "import matplotlib.pyplot as plt\n",
        "\n",
        "def plot_confusion_matrix(model, test_dataloader, device):\n",
        "    \"\"\"\n",
        "    Genera y pinta la matriz de confusión de un modelo en PyTorch utilizando el DataLoader de prueba,\n",
        "    y guarda la imagen resultante.\n",
        "\n",
        "    Args:\n",
        "        model: El modelo de PyTorch entrenado.\n",
        "        test_dataloader: El DataLoader que contiene los datos de prueba.\n",
        "        device: El dispositivo en el que se encuentra el modelo (CPU o GPU).\n",
        "    \"\"\"\n",
        "    # Poner el modelo en modo de evaluación\n",
        "    model.eval()\n",
        "\n",
        "    all_preds = []\n",
        "    all_labels = []\n",
        "\n",
        "    # Desactivar el cálculo de gradientes (no se necesita para la inferencia)\n",
        "    with torch.no_grad():\n",
        "        for images, labels in test_dataloader:\n",
        "            # Enviar las imágenes y las etiquetas al dispositivo correcto\n",
        "            images, labels = images.to(device), labels.to(device)\n",
        "\n",
        "            # Obtener las predicciones del modelo\n",
        "            outputs = model(images)\n",
        "            _, preds = torch.max(outputs, 1)\n",
        "\n",
        "            # Almacenar las predicciones y las etiquetas reales\n",
        "            all_preds.extend(preds.cpu().numpy())  # Convertir a CPU y luego a numpy\n",
        "            all_labels.extend(labels.cpu().numpy())\n",
        "\n",
        "    # Calcular la matriz de confusión\n",
        "    cm = confusion_matrix(all_labels, all_preds)\n",
        "\n",
        "    # Pintar la matriz de confusión usando seaborn\n",
        "    plt.figure(figsize=(10, 7))\n",
        "    sns.heatmap(cm, annot=False, fmt='d', cmap='Blues', xticklabels=np.arange(cm.shape[1]), yticklabels=np.arange(cm.shape[0]))\n",
        "    plt.xlabel('Predicción')\n",
        "    plt.ylabel('Etiqueta Real')\n",
        "    plt.title('Matriz de Confusión')\n",
        "    plt.show()\n",
        "\n",
        "    return cm\n",
        "\n",
        "# Usar la función con el modelo cargado\n",
        "model = load_full_model(file_name='mlp.pth')\n",
        "cm = plot_confusion_matrix(model, test_loader, device=device)\n",
        "#"
      ]
    },
    {
      "cell_type": "code",
      "execution_count": 25,
      "id": "2ad924bf-779f-4ef0-8110-a5a435480da5",
      "metadata": {
        "id": "2ad924bf-779f-4ef0-8110-a5a435480da5",
        "colab": {
          "base_uri": "https://localhost:8080/",
          "height": 607
        },
        "outputId": "5806d9e7-fd58-4a9c-def9-23e1dfb6eb42"
      },
      "outputs": [
        {
          "output_type": "display_data",
          "data": {
            "text/plain": [
              "<Figure size 1000x600 with 1 Axes>"
            ],
            "image/png": "[encoded data removed]"
          },
          "metadata": {}
        }
      ],
      "source": [
        "import matplotlib.pyplot as plt\n",
        "import numpy as np\n",
        "\n",
        "def plot_error_per_class(cm, title=\"Porcentaje de error por clase\"):\n",
        "    \"\"\"\n",
        "    Calcula y visualiza el porcentaje de error por clase a partir de la matriz de confusión.\n",
        "\n",
        "    Args:\n",
        "        cm (numpy.ndarray): Matriz de confusión (2D array).\n",
        "        title (str): Título del gráfico.\n",
        "    \"\"\"\n",
        "    # Calcular el porcentaje de error por clase\n",
        "    error_per_class = 1 - np.diagonal(cm) / np.sum(cm, axis=1)\n",
        "\n",
        "    # Crear el gráfico de barras\n",
        "    plt.figure(figsize=(10, 6))\n",
        "    plt.bar(np.arange(len(cm)), 100 * error_per_class, color='orange')\n",
        "    plt.xlabel(\"Clases\")\n",
        "    plt.ylabel(\"Porcentaje de Error (%)\")\n",
        "    plt.title(title)\n",
        "    plt.grid(axis='y', linestyle='--', alpha=0.7)\n",
        "    plt.xticks(np.arange(len(cm)))\n",
        "    plt.tight_layout()\n",
        "    plt.show()\n",
        "\n",
        "# Llamar a la función para mostrar el gráfico\n",
        "plot_error_per_class(cm)\n"
      ]
    },
    {
      "cell_type": "markdown",
      "id": "b6e2b077-fb6f-474c-abc5-54eb148c4792",
      "metadata": {
        "id": "b6e2b077-fb6f-474c-abc5-54eb148c4792"
      },
      "source": [
        "## Guarda las funciones en un archivo llamado `utils.py`:\n",
        "\n",
        "1. `count_trainable_params`\n",
        "2. `train`\n",
        "3. `evaluate`\n",
        "4. `train_and_evaluate`\n",
        "5. `save_full_model`\n",
        "6. `load_full_model`\n",
        "7. `plot_loss_accuracy`\n",
        "8. `plot_confusion_matrix`\n",
        "9. `plot_error_per_class`\n",
        "\n",
        "## Guarda el modelo o modelos un archivo llamado `models.py`\n"
      ]
    },
    {
      "cell_type": "code",
      "source": [
        "functions = [\n",
        "    '''\n",
        "import torch\n",
        "import torch.nn as nn\n",
        "import pandas as pd\n",
        "import matplotlib.pyplot as plt\n",
        "import torch\n",
        "import torch.nn as nn\n",
        "import pandas as pd\n",
        "import matplotlib.pyplot as plt\n",
        "from sklearn.metrics import confusion_matrix\n",
        "\n",
        "\n",
        "def count_trainable_params(model: nn.Module) -> int:\n",
        "    \"\"\"\n",
        "    Cuenta el número de parámetros entrenables en un modelo PyTorch.\n",
        "\n",
        "    Args:\n",
        "        model (nn.Module): El modelo de PyTorch.\n",
        "\n",
        "    Returns:\n",
        "        int: El número total de parámetros entrenables.\n",
        "    \"\"\"\n",
        "    return sum(p.numel() for p in model.parameters() if p.requires_grad)\n",
        "''',\n",
        "\n",
        "    '''\n",
        "def train(model, train_loader, loss_fn, optimizer, device):\n",
        "    model.train()\n",
        "    running_loss = 0.0\n",
        "    correct = 0\n",
        "    total = 0\n",
        "    for images, labels in train_loader:\n",
        "        images, labels = images.to(device), labels.to(device)\n",
        "\n",
        "        # Forward pass\n",
        "        outputs = model(images)\n",
        "        loss = loss_fn(outputs, labels)\n",
        "\n",
        "        # Backward pass y optimización\n",
        "        optimizer.zero_grad()\n",
        "        loss.backward()\n",
        "        optimizer.step()\n",
        "\n",
        "        running_loss += loss.item()\n",
        "\n",
        "        # Calcular la precisión\n",
        "        _, predicted = torch.max(outputs, 1)\n",
        "        total += labels.size(0)\n",
        "        correct += (predicted == labels).sum().item()\n",
        "\n",
        "    avg_loss = running_loss / len(train_loader)\n",
        "    accuracy = correct / total\n",
        "    return avg_loss, accuracy\n",
        "''',\n",
        "\n",
        "    '''\n",
        "def evaluate(model, val_loader, loss_fn, device):\n",
        "    model.eval()\n",
        "    running_loss = 0.0\n",
        "    correct = 0\n",
        "    total = 0\n",
        "    with torch.no_grad():\n",
        "        for images, labels in val_loader:\n",
        "            images, labels = images.to(device), labels.to(device)\n",
        "\n",
        "            # Forward pass\n",
        "            outputs = model(images)\n",
        "            loss = loss_fn(outputs, labels)\n",
        "\n",
        "            running_loss += loss.item()\n",
        "\n",
        "            # Calcular la precisión\n",
        "            _, predicted = torch.max(outputs, 1)\n",
        "            total += labels.size(0)\n",
        "            correct += (predicted == labels).sum().item()\n",
        "\n",
        "    avg_loss = running_loss / len(val_loader)\n",
        "    accuracy = correct / total\n",
        "    return avg_loss, accuracy\n",
        "''',\n",
        "\n",
        "    '''\n",
        "import torch\n",
        "def train_and_evaluate(model, train_loader, val_loader, test_loader, optimizer, device, num_epochs=10, name='None'):\n",
        "    # Definir la función de pérdida\n",
        "    loss_fn = nn.CrossEntropyLoss()\n",
        "\n",
        "    # Listas para almacenar las pérdidas y precisiones\n",
        "    train_losses = []\n",
        "    val_losses = []\n",
        "    train_accuracies = []  # Lista para almacenar las precisiones de entrenamiento\n",
        "    val_accuracies = []  # Lista para almacenar las precisiones de validación\n",
        "\n",
        "    # Ciclo de entrenamiento\n",
        "    for epoch in range(num_epochs):\n",
        "        # Entrenamiento\n",
        "        train_loss, train_accuracy = train(model, train_loader, loss_fn, optimizer, device)\n",
        "        train_losses.append(train_loss)\n",
        "        train_accuracies.append(train_accuracy)\n",
        "\n",
        "        # Evaluación en el conjunto de validación\n",
        "        val_loss, val_accuracy = evaluate(model, val_loader, loss_fn, device)\n",
        "        val_losses.append(val_loss)\n",
        "        val_accuracies.append(val_accuracy)\n",
        "\n",
        "        # Imprimir pérdidas y precisión\n",
        "        print(f\"Epoch [{epoch+1}/{num_epochs}], Train Loss: {train_loss:.4f}, Train Accuracy: {train_accuracy:.4f}, Validation Loss: {val_loss:.4f}, Validation Accuracy: {val_accuracy:.4f}\")\n",
        "\n",
        "    # Guardar pérdidas y precisión en archivos CSV\n",
        "    train_loss_df = pd.DataFrame({'Epoch': range(1, num_epochs+1), 'Train Loss': train_losses, 'Train Accuracy': train_accuracies})\n",
        "    val_loss_df = pd.DataFrame({'Epoch': range(1, num_epochs+1), 'Validation Loss': val_losses, 'Validation Accuracy': val_accuracies})\n",
        "\n",
        "    train_loss_df.to_csv(f'train_loss_{name}.csv', index=False)\n",
        "    val_loss_df.to_csv(f'valid_loss_{name}.csv', index=False)\n",
        "\n",
        "    # Evaluación en el conjunto de test (si se proporciona)\n",
        "    if test_loader is not None:\n",
        "        test_loss, test_accuracy = evaluate(model, test_loader, loss_fn, device)\n",
        "        print(f\"Test Loss: {test_loss:.4f}, Test Accuracy: {test_accuracy:.4f}\")\n",
        "\n",
        "        # Guardar la precisión de test en un archivo CSV\n",
        "        test_accuracy_df = pd.DataFrame({'Test Accuracy': [test_accuracy]})\n",
        "        test_accuracy_df.to_csv(f'test_accuracy_{name}.csv', index=False)\n",
        "\n",
        "    # Guardar las precisiones de entrenamiento y validación en archivos CSV\n",
        "    train_accuracy_df = pd.DataFrame({'Epoch': range(1, num_epochs+1), 'Train Accuracy': train_accuracies})\n",
        "    val_accuracy_df = pd.DataFrame({'Epoch': range(1, num_epochs+1), 'Validation Accuracy': val_accuracies})\n",
        "\n",
        "    train_accuracy_df.to_csv(f'train_accuracy_{name}.csv', index=False)\n",
        "    val_accuracy_df.to_csv(f'valid_accuracy_{name}.csv', index=False)\n",
        "\n",
        "\n",
        "    return train_losses, val_losses, train_accuracies, val_accuracies, test_loss, test_accuracy\n",
        "''',\n",
        "\n",
        "    '''\n",
        "def save_full_model(model, file_name):\n",
        "    \"\"\"\n",
        "    Guarda el modelo completo, incluyendo la arquitectura y los pesos.\n",
        "\n",
        "    Args:\n",
        "        model: El modelo de PyTorch a guardar.\n",
        "        file_name: El nombre del archivo donde se guardará el modelo.\n",
        "    \"\"\"\n",
        "    torch.save(model, file_name)\n",
        "    print(f\"Modelo completo guardado como {file_name}\")\n",
        "''',\n",
        "\n",
        "    '''\n",
        "def load_full_model(file_name):\n",
        "    \"\"\"\n",
        "    Carga el modelo completo desde un archivo guardado.\n",
        "\n",
        "    Args:\n",
        "        file_name: El nombre del archivo del modelo guardado.\n",
        "\n",
        "    Returns:\n",
        "        model: El modelo cargado.\n",
        "    \"\"\"\n",
        "    model = torch.load(file_name)\n",
        "    print(f\"Modelo cargado desde {file_name}\")\n",
        "    return model\n",
        "''',\n",
        "\n",
        "    '''\n",
        "def plot_loss_accuracy(train_loss_file, valid_loss_file, train_accuracy_file, valid_accuracy_file):\n",
        "    # Leer los archivos CSV con los datos\n",
        "    train_loss_df = pd.read_csv(train_loss_file)\n",
        "    valid_loss_df = pd.read_csv(valid_loss_file)\n",
        "    train_accuracy_df = pd.read_csv(train_accuracy_file)\n",
        "    valid_accuracy_df = pd.read_csv(valid_accuracy_file)\n",
        "\n",
        "    # Configuración de la figura\n",
        "    fig, (ax1, ax2) = plt.subplots(1, 2, figsize=(14, 6))\n",
        "\n",
        "    # Gráfico de las pérdidas\n",
        "    ax1.plot(train_loss_df['Epoch'], train_loss_df['Train Loss'], label='Train Loss', color='blue', linestyle='-', marker='o')\n",
        "    ax1.plot(valid_loss_df['Epoch'], valid_loss_df['Validation Loss'], label='Validation Loss', color='red', linestyle='-', marker='x')\n",
        "    ax1.set_title('Train & Validation Loss', fontsize=14)\n",
        "    ax1.set_xlabel('Epoch', fontsize=12)\n",
        "    ax1.set_ylabel('Loss', fontsize=12)\n",
        "    ax1.legend()\n",
        "    ax1.grid(True)\n",
        "\n",
        "    # Gráfico de las precisiones\n",
        "    ax2.plot(train_accuracy_df['Epoch'], train_accuracy_df['Train Accuracy'], label='Train Accuracy', color='blue', linestyle='-', marker='o')\n",
        "    ax2.plot(valid_accuracy_df['Epoch'], valid_accuracy_df['Validation Accuracy'], label='Validation Accuracy', color='red', linestyle='-', marker='x')\n",
        "    ax2.set_title('Train & Validation Accuracy', fontsize=14)\n",
        "    ax2.set_xlabel('Epoch', fontsize=12)\n",
        "    ax2.set_ylabel('Accuracy', fontsize=12)\n",
        "    ax2.legend()\n",
        "    ax2.grid(True)\n",
        "\n",
        "    # Mostrar las gráficas\n",
        "    plt.tight_layout()\n",
        "    plt.show()\n",
        "''',\n",
        "\n",
        "    '''\n",
        "def plot_confusion_matrix(model, test_dataloader, device):\n",
        "    \"\"\"\n",
        "    Genera y pinta la matriz de confusión de un modelo en PyTorch utilizando el DataLoader de prueba,\n",
        "    y guarda la imagen resultante.\n",
        "\n",
        "    Args:\n",
        "        model: El modelo de PyTorch entrenado.\n",
        "        test_dataloader: El DataLoader que contiene los datos de prueba.\n",
        "        device: El dispositivo en el que se encuentra el modelo (CPU o GPU).\n",
        "    \"\"\"\n",
        "    # Poner el modelo en modo de evaluación\n",
        "    model.eval()\n",
        "\n",
        "    all_preds = []\n",
        "    all_labels = []\n",
        "\n",
        "    # Desactivar el cálculo de gradientes (no se necesita para la inferencia)\n",
        "    with torch.no_grad():\n",
        "        for images, labels in test_dataloader:\n",
        "            # Enviar las imágenes y las etiquetas al dispositivo correcto\n",
        "            images, labels = images.to(device), labels.to(device)\n",
        "\n",
        "            # Obtener las predicciones del modelo\n",
        "            outputs = model(images)\n",
        "            _, preds = torch.max(outputs, 1)\n",
        "\n",
        "            # Almacenar las predicciones y las etiquetas reales\n",
        "            all_preds.extend(preds.cpu().numpy())  # Convertir a CPU y luego a numpy\n",
        "            all_labels.extend(labels.cpu().numpy())\n",
        "\n",
        "    # Calcular la matriz de confusión\n",
        "    cm = confusion_matrix(all_labels, all_preds)\n",
        "\n",
        "    # Pintar la matriz de confusión usando seaborn\n",
        "    plt.figure(figsize=(10, 7))\n",
        "    sns.heatmap(cm, annot=False, fmt='d', cmap='Blues', xticklabels=np.arange(cm.shape[1]), yticklabels=np.arange(cm.shape[0]))\n",
        "    plt.xlabel('Predicción')\n",
        "    plt.ylabel('Etiqueta Real')\n",
        "    plt.title('Matriz de Confusión')\n",
        "    plt.show()\n",
        "\n",
        "    return cm\n",
        "''',\n",
        "\n",
        "    '''\n",
        "def plot_error_per_class(cm, title=\"Porcentaje de error por clase\"):\n",
        "    \"\"\"\n",
        "    Calcula y visualiza el porcentaje de error por clase a partir de la matriz de confusión.\n",
        "\n",
        "    Args:\n",
        "        cm (numpy.ndarray): Matriz de confusión (2D array).\n",
        "        title (str): Título del gráfico.\n",
        "    \"\"\"\n",
        "    # Calcular el porcentaje de error por clase\n",
        "    error_per_class = 1 - np.diagonal(cm) / np.sum(cm, axis=1)\n",
        "\n",
        "    # Crear el gráfico de barras\n",
        "    plt.figure(figsize=(10, 6))\n",
        "    plt.bar(np.arange(len(cm)), 100 * error_per_class, color='orange')\n",
        "    plt.xlabel(\"Clases\")\n",
        "    plt.ylabel(\"Porcentaje de Error (%)\")\n",
        "    plt.title(title)\n",
        "    plt.grid(axis='y', linestyle='--', alpha=0.7)\n",
        "    plt.xticks(np.arange(len(cm)))\n",
        "    plt.tight_layout()\n",
        "    plt.show()\n",
        "''',\n",
        "]\n",
        "\n",
        "# Abre el archivo en modo escritura\n",
        "with open('utils.py', 'w') as file:\n",
        "    # Escribe cada función en el archivo\n",
        "    for function in functions:\n",
        "        file.write(function + \"\\n\")\n"
      ],
      "metadata": {
        "id": "Ph0yf6dJCzZH"
      },
      "id": "Ph0yf6dJCzZH",
      "execution_count": 26,
      "outputs": []
    },
    {
      "cell_type": "code",
      "source": [
        "with open(\"models.py\", \"a\") as file:\n",
        "    file.write('''\n",
        "import torch\n",
        "import torch.nn as nn\n",
        "import pandas as pd\n",
        "import matplotlib.pyplot as plt\n",
        "import torch\n",
        "import torch.nn as nn\n",
        "import pandas as pd\n",
        "import matplotlib.pyplot as plt\n",
        "from sklearn.metrics import confusion_matrix\n",
        "\n",
        "\n",
        "# Red neuronal MLP\n",
        "class MLP(nn.Module):\n",
        "    def __init__(self, input_size, hidden_size, output_size):\n",
        "        super(MLP, self).__init__()\n",
        "        self.hidden_layer1 = nn.Linear(input_size, hidden_size)\n",
        "        self.hidden_layer2 = nn.Linear(hidden_size, hidden_size)\n",
        "        self.output_layer = nn.Linear(hidden_size, output_size)\n",
        "        self.activation = nn.ReLU()\n",
        "\n",
        "    def forward(self, x):\n",
        "        x = x.view(x.size(0), -1)  # Aplanar la entrada\n",
        "        x = self.hidden_layer1(x)\n",
        "        x = self.activation(x)\n",
        "        x = self.hidden_layer2(x)\n",
        "        x = self.activation(x)\n",
        "        x = self.output_layer(x)\n",
        "        return x\n",
        "\n",
        "\n",
        "# Ejemplo de uso\n",
        "input_size = 3 * 25 * 25  # Tamaño de la entrada para imágenes 25x25 con 3 canales\n",
        "hidden_size = 512  # Número de neuronas en la capa oculta (puedes ajustarlo)\n",
        "output_size = 43  # Número de clases para la salida (ajústalo si es diferente)\n",
        "\n",
        "# Crear una instancia de la red\n",
        "mlp = MLP(input_size, hidden_size, output_size)\n",
        "\n",
        "# Crear un tensor de ejemplo con un batch de tamaño 16 y 25x25 píxeles de entrada\n",
        "example_input = torch.randn(16, 3, 25, 25)  # Tamaño (batch_size, 3, 25, 25)\n",
        "\n",
        "# Realizar una pasada hacia adelante\n",
        "output = mlp(example_input)\n",
        "\n",
        "print(\"Tamaño de la salida:\", output.shape)  # Debería ser [16, 43] (16 imágenes, 43 clases)\n",
        "''')"
      ],
      "metadata": {
        "id": "o40GS6fHC2uR"
      },
      "id": "o40GS6fHC2uR",
      "execution_count": 27,
      "outputs": []
    },
    {
      "cell_type": "markdown",
      "id": "444224c9-9fc6-478a-bab4-a6d0fddeefda",
      "metadata": {
        "id": "444224c9-9fc6-478a-bab4-a6d0fddeefda"
      },
      "source": [
        "---------------------"
      ]
    },
    {
      "cell_type": "code",
      "source": [],
      "metadata": {
        "id": "LUnQkVlrEJE-"
      },
      "id": "LUnQkVlrEJE-",
      "execution_count": 35,
      "outputs": []
    }
  ],
  "metadata": {
    "kernelspec": {
      "display_name": "Python 3 (ipykernel)",
      "language": "python",
      "name": "python3"
    },
    "language_info": {
      "codemirror_mode": {
        "name": "ipython",
        "version": 3
      },
      "file_extension": ".py",
      "mimetype": "text/x-python",
      "name": "python",
      "nbconvert_exporter": "python",
      "pygments_lexer": "ipython3",
      "version": "3.10.14"
    },
    "colab": {
      "provenance": []
    }
  },
  "nbformat": 4,
  "nbformat_minor": 5
}